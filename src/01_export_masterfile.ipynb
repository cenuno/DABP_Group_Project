{
 "cells": [
  {
   "cell_type": "markdown",
   "metadata": {},
   "source": [
    "# Export Master File\n",
    "\n",
    "This script:\n",
    "\n",
    "* unzips .zip files;\n",
    "* reads them as separate data frames;\n",
    "* binds them together into one data frame; and\n",
    "* exports the results as a .csv file"
   ]
  },
  {
   "cell_type": "code",
   "execution_count": 11,
   "metadata": {
    "collapsed": true
   },
   "outputs": [],
   "source": [
    "# load necessary packages\n",
    "import pandas\n",
    "import zipfile\n",
    "import os\n",
    "import re"
   ]
  },
  {
   "cell_type": "code",
   "execution_count": 12,
   "metadata": {
    "collapsed": false
   },
   "outputs": [],
   "source": [
    "# set working directory\n",
    "directory = \"/Users/cristiannuno/Desktop/Advanced_Analytics/DABP_Group_Project/raw_data/\"\n",
    "os.chdir(directory)"
   ]
  },
  {
   "cell_type": "code",
   "execution_count": 29,
   "metadata": {
    "collapsed": false,
    "scrolled": true
   },
   "outputs": [
    {
     "name": "stdout",
     "output_type": "stream",
     "text": [
      "['2018_fsa_acres_sep0618_csa1983.zip', '2016_fsa_acres_jan2017_edr32.zip', '2008_fsa_acres_sum_final.zip', '2007_fsa_acres_sum_final.zip', '2013_fsa_acres_jan_2014.zip', '2017_fsa_acres_jan2018.zip', '2015_fsa_acres_Jan2016_sq19.zip', '2009_fsa_acres_sum_final_8.zip', '2014_fsa_acres_Jan2014.zip', '2010_fsa_acres_sum_final_6.zip', '2012_fsa_acres_jan_2013.zip', '2011_fsa_acres_sum_jan2012.zip']\n"
     ]
    }
   ],
   "source": [
    "# store all files in current wd\n",
    "file_names = os.listdir(\".\")\n",
    "\n",
    "# create regex to only give back file names that contain .zip\n",
    "my_pattern = re.compile(\".zip$\")\n",
    "\n",
    "# store zip files that satisfy the regex\n",
    "my_zip_files = list(filter(my_pattern.search, file_names))\n"
   ]
  },
  {
   "cell_type": "code",
   "execution_count": 34,
   "metadata": {
    "collapsed": false
   },
   "outputs": [
    {
     "name": "stdout",
     "output_type": "stream",
     "text": [
      "2018_fsa_acres_sep0618_csa1983.zip\n",
      "2016_fsa_acres_jan2017_edr32.zip\n",
      "2008_fsa_acres_sum_final.zip\n",
      "2007_fsa_acres_sum_final.zip\n",
      "2013_fsa_acres_jan_2014.zip\n",
      "2017_fsa_acres_jan2018.zip\n",
      "2015_fsa_acres_Jan2016_sq19.zip\n",
      "2009_fsa_acres_sum_final_8.zip\n",
      "2014_fsa_acres_Jan2014.zip\n",
      "2010_fsa_acres_sum_final_6.zip\n",
      "2012_fsa_acres_jan_2013.zip\n",
      "2011_fsa_acres_sum_jan2012.zip\n"
     ]
    }
   ],
   "source": [
    "# unzip each file in my_zip_files\n",
    "for i in my_zip_files:\n",
    "    print(i)\n",
    "    zip = zipfile.ZipFile(file = i, mode = \"r\")\n",
    "    zip.extractall(os.getcwd())\n",
    "    zip.close()"
   ]
  },
  {
   "cell_type": "code",
   "execution_count": 33,
   "metadata": {
    "collapsed": false
   },
   "outputs": [
    {
     "data": {
      "text/plain": [
       "'/Users/cristiannuno/Desktop/Advanced_Analytics/DABP_Group_Project/raw_data'"
      ]
     },
     "execution_count": 33,
     "metadata": {},
     "output_type": "execute_result"
    }
   ],
   "source": [
    "os.getcwd()"
   ]
  },
  {
   "cell_type": "code",
   "execution_count": null,
   "metadata": {
    "collapsed": true
   },
   "outputs": [],
   "source": []
  }
 ],
 "metadata": {
  "anaconda-cloud": {},
  "kernelspec": {
   "display_name": "Python [conda env:ENTER]",
   "language": "python",
   "name": "conda-env-ENTER-py"
  },
  "language_info": {
   "codemirror_mode": {
    "name": "ipython",
    "version": 3
   },
   "file_extension": ".py",
   "mimetype": "text/x-python",
   "name": "python",
   "nbconvert_exporter": "python",
   "pygments_lexer": "ipython3",
   "version": "3.5.6"
  }
 },
 "nbformat": 4,
 "nbformat_minor": 1
}
